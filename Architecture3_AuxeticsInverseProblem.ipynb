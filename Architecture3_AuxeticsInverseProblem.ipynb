{
 "cells": [
  {
   "cell_type": "markdown",
   "id": "f50d5f4d",
   "metadata": {},
   "source": [
    "# Load in dataset"
   ]
  },
  {
   "cell_type": "code",
   "execution_count": 1,
   "id": "028f040e",
   "metadata": {},
   "outputs": [],
   "source": [
    "import pandas as pd\n",
    "import numpy as np\n",
    "import matplotlib.pyplot as plt"
   ]
  },
  {
   "cell_type": "code",
   "execution_count": 7,
   "id": "f24e3a33",
   "metadata": {},
   "outputs": [],
   "source": [
    "data = pd.read_csv(\"Datasets.csv\")"
   ]
  },
  {
   "cell_type": "code",
   "execution_count": 16,
   "id": "59ef3535",
   "metadata": {},
   "outputs": [],
   "source": [
    "parameters = list(data.columns)\n",
    "cell_data = data.filter(items=parameters[:-1])"
   ]
  },
  {
   "cell_type": "markdown",
   "id": "04bdffcb",
   "metadata": {},
   "source": [
    "# Image generation"
   ]
  },
  {
   "cell_type": "code",
   "execution_count": 33,
   "id": "b7bff127",
   "metadata": {},
   "outputs": [],
   "source": [
    "from math import sin, cos, radians"
   ]
  },
  {
   "cell_type": "code",
   "execution_count": 151,
   "id": "dc69bc20",
   "metadata": {},
   "outputs": [],
   "source": [
    "\"\"\"\n",
    "Takes in a Pandas series and generates an image of the re-entrant auxetic\n",
    "    described by the parameters\n",
    "\n",
    "Arguments:\n",
    "* data: Pandas series with 'Slant cell length', 'Cell thickness', 'Cell angle', \n",
    "    'Vertical cell length'\n",
    "* show: False if plot should not be displayed\n",
    "* save: True if the plot should be saved\n",
    "* fname: name of the file to save the plot into if save=True\n",
    "\"\"\"\n",
    "def gen_image(data, show=True, save=False, fname=''):\n",
    "    # ignoring cell thickness for now\n",
    "    slant_len = data[\"Slant cell length\"]\n",
    "    thickness = data[\"Cell thickness\"]\n",
    "    angle = data[\"Cell angle\"]\n",
    "    height = data[\"Vertical cell length\"]\n",
    "\n",
    "    # for calculating x and y coordinates of plot lines\n",
    "    slant_dx = slant_len * cos(radians(90 - angle))\n",
    "    slant_dy = slant_len * sin(radians(90 - angle))\n",
    "\n",
    "    # plot point generation\n",
    "    top = 1 + height\n",
    "    bottom = 1\n",
    "    center = 1 + slant_dx\n",
    "    left = 1\n",
    "    right = 1 + 2*slant_dx\n",
    "    # [ [[x values of 1st slant], [y values of 1st slant]], [...], [...], [...] ]\n",
    "    slants = [\n",
    "        [[left, center], [bottom, bottom + slant_dy]],\n",
    "        [[center, right], [bottom + slant_dy, bottom]],\n",
    "        [[left, center], [top, top - slant_dy]],\n",
    "        [[center, right],[top - slant_dy, top]]\n",
    "    ]\n",
    "    # vertical lines\n",
    "    verticals = [\n",
    "        [[left, left], [bottom, top]],\n",
    "        [[center, center], [bottom + slant_dy, bottom - 0.2*height]],\n",
    "        [[right, right], [bottom, top]],\n",
    "        [[center, center], [top - slant_dy, top + 0.2*height]]\n",
    "    ]\n",
    "\n",
    "    # plotting and saving\n",
    "    plt.cla()\n",
    "    for slant in slants:\n",
    "        plt.plot(*slant, color='black', linewidth=thickness*0.5)\n",
    "    for line in verticals:\n",
    "        plt.plot(*line, color='black', linewidth=thickness*0.5)\n",
    "    plt.axis('off')\n",
    "    \n",
    "    if save:\n",
    "        plt.savefig(fname)\n",
    "    if not show:\n",
    "        plt.close()\n",
    "\n",
    "\"\"\"\n",
    "Saves a group of images\n",
    "\n",
    "Arguments:\n",
    "* data: Pandas dataframe\n",
    "* indices: list of indices of rows in the dataframe to\n",
    "    generate images from\n",
    "\"\"\"\n",
    "def save_images(data, indices, folder='test'):\n",
    "    excluded = []\n",
    "    for idx in indices:\n",
    "        if idx >= data.shape[0]:\n",
    "            excluded.append(idx)\n",
    "            continue\n",
    "        gen_image(data.iloc[idx], show=False, save=True, fname=f'./images/{folder}/{idx}.png')\n",
    "    if excluded:\n",
    "        print(f\"indices excluded (not in range): {excluded}\")"
   ]
  },
  {
   "cell_type": "markdown",
   "id": "3b97b346",
   "metadata": {},
   "source": [
    "## Train vs. Test Split"
   ]
  },
  {
   "cell_type": "code",
   "execution_count": 117,
   "id": "1a2ce781",
   "metadata": {},
   "outputs": [],
   "source": [
    "import random"
   ]
  },
  {
   "cell_type": "code",
   "execution_count": null,
   "id": "036c3987",
   "metadata": {},
   "outputs": [],
   "source": [
    "train = data.sample(n=1500)\n",
    "test = data.sample(n=2500)\n",
    "print(f'{train.shape[0]} training samples')\n",
    "print(f'{test.shape[0]} test samples')"
   ]
  },
  {
   "cell_type": "markdown",
   "id": "127ca673",
   "metadata": {},
   "source": [
    "Checking distribution of each parameter"
   ]
  },
  {
   "cell_type": "code",
   "execution_count": null,
   "id": "d6737ae7",
   "metadata": {},
   "outputs": [],
   "source": [
    "# NOT NECESSARY FOR MODEL\n",
    "# original data\n",
    "for param in parameters[:-1]:\n",
    "    values = list(data[param])\n",
    "    unique_vals = set(values)\n",
    "    plt.title(f\"Original: {param}\")\n",
    "    plt.hist(values, bins=len(unique_vals), edgecolor='black')\n",
    "    plt.show()"
   ]
  },
  {
   "cell_type": "code",
   "execution_count": null,
   "id": "373ac912",
   "metadata": {},
   "outputs": [],
   "source": [
    "# NOT NECESSARY FOR MODEL\n",
    "# train data\n",
    "for param in parameters[:-1]:\n",
    "    values = list(train[param])\n",
    "    unique_vals = set(values)\n",
    "    plt.title(f\"Train: {param}\")\n",
    "    plt.hist(values, bins=len(unique_vals), edgecolor='black')\n",
    "    plt.show()"
   ]
  },
  {
   "cell_type": "code",
   "execution_count": null,
   "id": "42a58774",
   "metadata": {},
   "outputs": [],
   "source": [
    "# NOT NECESSARY FOR MODEL\n",
    "# test data\n",
    "for param in parameters[:-1]:\n",
    "    values = list(test[param])\n",
    "    unique_vals = set(values)\n",
    "    plt.title(f\"Test: {param}\")\n",
    "    plt.hist(values, bins=len(unique_vals), edgecolor='black')\n",
    "    plt.show()"
   ]
  },
  {
   "cell_type": "markdown",
   "id": "353b2e21",
   "metadata": {},
   "source": [
    "Generate ground truth labels and save images"
   ]
  },
  {
   "cell_type": "code",
   "execution_count": 213,
   "id": "5efc4149",
   "metadata": {},
   "outputs": [],
   "source": [
    "import torch\n",
    "import torch.nn as nn\n",
    "from torch import tensor, optim\n",
    "\n",
    "from torch.utils.data import Dataset, DataLoader\n",
    "\n",
    "from torchvision import transforms\n",
    "\n",
    "import PIL\n",
    "from PIL import Image\n"
   ]
  },
  {
   "cell_type": "code",
   "execution_count": null,
   "id": "37bfd63f",
   "metadata": {},
   "outputs": [],
   "source": [
    "transform = transforms.Compose([transforms.ToTensor()])\n",
    "# Image.open(\"./images/test/4.png\").convert(\"RGB\")\n"
   ]
  },
  {
   "cell_type": "code",
   "execution_count": null,
   "id": "1c30e83c",
   "metadata": {},
   "outputs": [],
   "source": [
    "train_indices = list(train.index)\n",
    "test_indices = list(test.index)"
   ]
  },
  {
   "cell_type": "code",
   "execution_count": null,
   "id": "f3192ca5",
   "metadata": {},
   "outputs": [],
   "source": [
    "# Train labels -- may not need\n",
    "train_labels = []\n",
    "for idx in train_indices:\n",
    "    poisson_ratio = data.iloc[idx][\"Poisson's ratio\"]\n",
    "    train_labels.append(poisson_ratio)"
   ]
  },
  {
   "cell_type": "code",
   "execution_count": null,
   "id": "ed78e1d3",
   "metadata": {},
   "outputs": [],
   "source": [
    "# Test labels -- may not need\n",
    "test_labels = []\n",
    "for idx in test_indices:\n",
    "    poisson_ratio = data.iloc[idx][\"Poisson's ratio\"]\n",
    "    test_labels.append(poisson_ratio)"
   ]
  },
  {
   "cell_type": "code",
   "execution_count": null,
   "id": "13b7853e",
   "metadata": {},
   "outputs": [],
   "source": [
    "# Save training images -- takes ~90 seconds to run\n",
    "save_images(data, train_indices, folder='train')"
   ]
  },
  {
   "cell_type": "code",
   "execution_count": null,
   "id": "ca682a5f",
   "metadata": {},
   "outputs": [],
   "source": [
    "# Save test images -- takes ~135 seconds to run\n",
    "save_images(data, test_indices, folder='test')"
   ]
  },
  {
   "cell_type": "code",
   "execution_count": 229,
   "id": "669dc64b",
   "metadata": {},
   "outputs": [],
   "source": [
    "# takes ~1 minute\n",
    "\n",
    "train_images = []\n",
    "for idx in train_indices:\n",
    "    img = Image.open(f\"./images/train/{idx}.png\").convert(\"RGB\")\n",
    "    train_images.append((transform(img), data.iloc[idx][\"Vertical cell length\"], data.iloc[idx][\"Poisson's ratio\"]))\n",
    "\n",
    "test_images = []\n",
    "for idx in test_indices:\n",
    "    img = Image.open(f\"./images/test/{idx}.png\").convert(\"RGB\")\n",
    "    test_images.append((transform(img), data.iloc[idx][\"Vertical cell length\"], data.iloc[idx][\"Poisson's ratio\"]))"
   ]
  },
  {
   "cell_type": "markdown",
   "id": "6cc7db71",
   "metadata": {},
   "source": [
    "# Model training"
   ]
  },
  {
   "cell_type": "code",
   "execution_count": 225,
   "id": "04e6dbd2",
   "metadata": {},
   "outputs": [],
   "source": [
    "from tqdm.notebook import tqdm"
   ]
  },
  {
   "cell_type": "markdown",
   "id": "861e95b3",
   "metadata": {},
   "source": [
    "Adapted from [Medium article](https://medium.com/@iamarjunchandra/mixed-input-data-in-pytorch-cnn-mlp-8aeff336e8a3) about mixed input data"
   ]
  },
  {
   "cell_type": "code",
   "execution_count": 230,
   "id": "99446cde",
   "metadata": {},
   "outputs": [],
   "source": [
    "device = torch.device(\"cpu\")\n",
    "\n",
    "# HYPERPARAMETERS\n",
    "LATENT_DIM = 256\n",
    "BATCH_SIZE = 32\n",
    "LEARNING_RATE = 1e-3\n",
    "EPOCHS = 50\n",
    "\n",
    "# DATA LOADERS\n",
    "train_image_loader = DataLoader(train_images, batch_size=BATCH_SIZE, shuffle=True)\n",
    "test_image_loader = DataLoader(test_images, batch_size=BATCH_SIZE, shuffle=False)\n",
    "\n",
    "# NEURAL NETWORK\n",
    "class NeuralNetwork(nn.Module):\n",
    "    def __init__(self, latent_dim=LATENT_DIM):\n",
    "        super(NeuralNetwork, self).__init__()\n",
    "        self.image_features_ = nn.Sequential(\n",
    "            nn.Conv2d(3, 16, kernel_size=5, stride=2, padding=2),\n",
    "            nn.ReLU(inplace=True),\n",
    "            nn.MaxPool2d(kernel_size=3, stride=2),\n",
    "            nn.Dropout(),\n",
    "            nn.Conv2d(16, 64, kernel_size=5, padding=2),\n",
    "            nn.ReLU(inplace=True),\n",
    "            nn.MaxPool2d(kernel_size=3, stride=2),\n",
    "            nn.Dropout()\n",
    "        )\n",
    "        self.numeric_features_ = nn.Sequential(\n",
    "            nn.Linear(9, 64),\n",
    "            nn.ReLU(inplace=True),\n",
    "            nn.Dropout(),\n",
    "            nn.Linear(64, 64*64),\n",
    "            nn.ReLU(inplace=True),\n",
    "            nn.Dropout()\n",
    "        )\n",
    "        self.combined_features_ = nn.Sequential(\n",
    "            nn.Linear(64*64*2, 64*64*2*2),\n",
    "            nn.ReLU(inplace=True),\n",
    "            nn.Dropout(),\n",
    "            nn.Linear(64*64*2*2, 64*64*2),\n",
    "            nn.ReLU(inplace=True),\n",
    "            nn.Linear(64*3*3*2, 64),\n",
    "            nn.Linear(64, 1)\n",
    "        )\n",
    "    def forward(self, x, y):\n",
    "        x = self.image_features_(x)\n",
    "        x = x.view(-1, 64*64)\n",
    "        y = self.numeric_features_(y)\n",
    "        z = torch.cat((x,y), 1)\n",
    "        z = self.combined_features_(z)\n",
    "        return z\n",
    "\n",
    "model = NeuralNetwork().to(device)\n",
    "criterion = nn.MSELoss()\n",
    "optimizer = optim.Adam(model.parameters(), lr=LEARNING_RATE)"
   ]
  },
  {
   "cell_type": "code",
   "execution_count": 231,
   "id": "244cb7c3",
   "metadata": {},
   "outputs": [
    {
     "data": {
      "application/vnd.jupyter.widget-view+json": {
       "model_id": "2a6003c9428543798b24faeed3c35c12",
       "version_major": 2,
       "version_minor": 0
      },
      "text/plain": [
       "Training Progress:   0%|          | 0/50 [00:00<?, ?it/s]"
      ]
     },
     "metadata": {},
     "output_type": "display_data"
    },
    {
     "ename": "RuntimeError",
     "evalue": "shape '[-1, 4096]' is invalid for input of size 9545728",
     "output_type": "error",
     "traceback": [
      "\u001b[0;31m---------------------------------------------------------------------------\u001b[0m",
      "\u001b[0;31mRuntimeError\u001b[0m                              Traceback (most recent call last)",
      "Cell \u001b[0;32mIn[231], line 35\u001b[0m\n\u001b[1;32m     31\u001b[0m     plt\u001b[38;5;241m.\u001b[39mshow()\n\u001b[1;32m     33\u001b[0m     \u001b[38;5;28;01mreturn\u001b[39;00m loss_history\n\u001b[0;32m---> 35\u001b[0m loss_history \u001b[38;5;241m=\u001b[39m \u001b[43mtrain_nn\u001b[49m\u001b[43m(\u001b[49m\u001b[43mmodel\u001b[49m\u001b[43m,\u001b[49m\u001b[43m \u001b[49m\u001b[43mtrain_image_loader\u001b[49m\u001b[43m,\u001b[49m\u001b[43m \u001b[49m\u001b[43mepochs\u001b[49m\u001b[38;5;241;43m=\u001b[39;49m\u001b[43mEPOCHS\u001b[49m\u001b[43m)\u001b[49m\n",
      "Cell \u001b[0;32mIn[231], line 13\u001b[0m, in \u001b[0;36mtrain_nn\u001b[0;34m(model, train_image_loader, epochs)\u001b[0m\n\u001b[1;32m     10\u001b[0m images \u001b[38;5;241m=\u001b[39m images\u001b[38;5;241m.\u001b[39mto(device)\n\u001b[1;32m     12\u001b[0m optimizer\u001b[38;5;241m.\u001b[39mzero_grad()\n\u001b[0;32m---> 13\u001b[0m poisson_pred \u001b[38;5;241m=\u001b[39m \u001b[43mmodel\u001b[49m\u001b[43m(\u001b[49m\u001b[43mimages\u001b[49m\u001b[43m,\u001b[49m\u001b[43m \u001b[49m\u001b[43mheights\u001b[49m\u001b[43m)\u001b[49m\n\u001b[1;32m     14\u001b[0m loss \u001b[38;5;241m=\u001b[39m criterion(poisson_pred, poisson)\n\u001b[1;32m     15\u001b[0m loss\u001b[38;5;241m.\u001b[39mbackward\n",
      "File \u001b[0;32m/Library/Frameworks/Python.framework/Versions/3.11/lib/python3.11/site-packages/torch/nn/modules/module.py:1511\u001b[0m, in \u001b[0;36mModule._wrapped_call_impl\u001b[0;34m(self, *args, **kwargs)\u001b[0m\n\u001b[1;32m   1509\u001b[0m     \u001b[38;5;28;01mreturn\u001b[39;00m \u001b[38;5;28mself\u001b[39m\u001b[38;5;241m.\u001b[39m_compiled_call_impl(\u001b[38;5;241m*\u001b[39margs, \u001b[38;5;241m*\u001b[39m\u001b[38;5;241m*\u001b[39mkwargs)  \u001b[38;5;66;03m# type: ignore[misc]\u001b[39;00m\n\u001b[1;32m   1510\u001b[0m \u001b[38;5;28;01melse\u001b[39;00m:\n\u001b[0;32m-> 1511\u001b[0m     \u001b[38;5;28;01mreturn\u001b[39;00m \u001b[38;5;28;43mself\u001b[39;49m\u001b[38;5;241;43m.\u001b[39;49m\u001b[43m_call_impl\u001b[49m\u001b[43m(\u001b[49m\u001b[38;5;241;43m*\u001b[39;49m\u001b[43margs\u001b[49m\u001b[43m,\u001b[49m\u001b[43m \u001b[49m\u001b[38;5;241;43m*\u001b[39;49m\u001b[38;5;241;43m*\u001b[39;49m\u001b[43mkwargs\u001b[49m\u001b[43m)\u001b[49m\n",
      "File \u001b[0;32m/Library/Frameworks/Python.framework/Versions/3.11/lib/python3.11/site-packages/torch/nn/modules/module.py:1520\u001b[0m, in \u001b[0;36mModule._call_impl\u001b[0;34m(self, *args, **kwargs)\u001b[0m\n\u001b[1;32m   1515\u001b[0m \u001b[38;5;66;03m# If we don't have any hooks, we want to skip the rest of the logic in\u001b[39;00m\n\u001b[1;32m   1516\u001b[0m \u001b[38;5;66;03m# this function, and just call forward.\u001b[39;00m\n\u001b[1;32m   1517\u001b[0m \u001b[38;5;28;01mif\u001b[39;00m \u001b[38;5;129;01mnot\u001b[39;00m (\u001b[38;5;28mself\u001b[39m\u001b[38;5;241m.\u001b[39m_backward_hooks \u001b[38;5;129;01mor\u001b[39;00m \u001b[38;5;28mself\u001b[39m\u001b[38;5;241m.\u001b[39m_backward_pre_hooks \u001b[38;5;129;01mor\u001b[39;00m \u001b[38;5;28mself\u001b[39m\u001b[38;5;241m.\u001b[39m_forward_hooks \u001b[38;5;129;01mor\u001b[39;00m \u001b[38;5;28mself\u001b[39m\u001b[38;5;241m.\u001b[39m_forward_pre_hooks\n\u001b[1;32m   1518\u001b[0m         \u001b[38;5;129;01mor\u001b[39;00m _global_backward_pre_hooks \u001b[38;5;129;01mor\u001b[39;00m _global_backward_hooks\n\u001b[1;32m   1519\u001b[0m         \u001b[38;5;129;01mor\u001b[39;00m _global_forward_hooks \u001b[38;5;129;01mor\u001b[39;00m _global_forward_pre_hooks):\n\u001b[0;32m-> 1520\u001b[0m     \u001b[38;5;28;01mreturn\u001b[39;00m \u001b[43mforward_call\u001b[49m\u001b[43m(\u001b[49m\u001b[38;5;241;43m*\u001b[39;49m\u001b[43margs\u001b[49m\u001b[43m,\u001b[49m\u001b[43m \u001b[49m\u001b[38;5;241;43m*\u001b[39;49m\u001b[38;5;241;43m*\u001b[39;49m\u001b[43mkwargs\u001b[49m\u001b[43m)\u001b[49m\n\u001b[1;32m   1522\u001b[0m \u001b[38;5;28;01mtry\u001b[39;00m:\n\u001b[1;32m   1523\u001b[0m     result \u001b[38;5;241m=\u001b[39m \u001b[38;5;28;01mNone\u001b[39;00m\n",
      "Cell \u001b[0;32mIn[230], line 46\u001b[0m, in \u001b[0;36mNeuralNetwork.forward\u001b[0;34m(self, x, y)\u001b[0m\n\u001b[1;32m     44\u001b[0m \u001b[38;5;28;01mdef\u001b[39;00m \u001b[38;5;21mforward\u001b[39m(\u001b[38;5;28mself\u001b[39m, x, y):\n\u001b[1;32m     45\u001b[0m     x \u001b[38;5;241m=\u001b[39m \u001b[38;5;28mself\u001b[39m\u001b[38;5;241m.\u001b[39mimage_features_(x)\n\u001b[0;32m---> 46\u001b[0m     x \u001b[38;5;241m=\u001b[39m \u001b[43mx\u001b[49m\u001b[38;5;241;43m.\u001b[39;49m\u001b[43mview\u001b[49m\u001b[43m(\u001b[49m\u001b[38;5;241;43m-\u001b[39;49m\u001b[38;5;241;43m1\u001b[39;49m\u001b[43m,\u001b[49m\u001b[43m \u001b[49m\u001b[38;5;241;43m64\u001b[39;49m\u001b[38;5;241;43m*\u001b[39;49m\u001b[38;5;241;43m64\u001b[39;49m\u001b[43m)\u001b[49m\n\u001b[1;32m     47\u001b[0m     y \u001b[38;5;241m=\u001b[39m \u001b[38;5;28mself\u001b[39m\u001b[38;5;241m.\u001b[39mnumeric_features_(y)\n\u001b[1;32m     48\u001b[0m     z \u001b[38;5;241m=\u001b[39m torch\u001b[38;5;241m.\u001b[39mcat((x,y), \u001b[38;5;241m1\u001b[39m)\n",
      "\u001b[0;31mRuntimeError\u001b[0m: shape '[-1, 4096]' is invalid for input of size 9545728"
     ]
    }
   ],
   "source": [
    "# training loop\n",
    "def train_nn(model, train_image_loader, epochs=EPOCHS):\n",
    "    model.train()\n",
    "    loss_history = []\n",
    "\n",
    "    for epoch in tqdm(range(epochs), desc=\"Training Progress\"):\n",
    "        total_loss = 0\n",
    "\n",
    "        for images, heights, poisson in train_image_loader:\n",
    "            images = images.to(device)\n",
    "\n",
    "            optimizer.zero_grad()\n",
    "            poisson_pred = model(images, heights)\n",
    "            loss = criterion(poisson_pred, poisson)\n",
    "            loss.backward\n",
    "            optimizer.step()\n",
    "\n",
    "            total_loss += loss.item()\n",
    "        \n",
    "        avg_loss = total_loss / len(train_image_loader)\n",
    "        loss_history.append(avg_loss)\n",
    "        if epoch % 10 == 0:\n",
    "            print(f\"Epoch [{epoch+1}/epochs], Loss: {avg_loss:.4f}\")\n",
    "\n",
    "    # plot loss history\n",
    "    plt.plot(range(1, epochs + 1), loss_history, marker='o', linestyle='-')\n",
    "    plt.xlabel(\"epoch\")\n",
    "    plt.ylabel(\"Loss\")\n",
    "    plt.title(\"Training Loss Over Time\")\n",
    "    plt.grid()\n",
    "    plt.show()\n",
    "\n",
    "    return loss_history\n",
    "\n",
    "loss_history = train_nn(model, train_image_loader, epochs=EPOCHS)"
   ]
  },
  {
   "cell_type": "code",
   "execution_count": null,
   "id": "daabbd12",
   "metadata": {},
   "outputs": [],
   "source": [
    "# copied from article, to be adapted\n",
    "\n",
    "for epoch in range(1, n_epochs + 1):\n",
    "    loss_train = 0\n",
    "    for imgs, numeric_features, price in train_loader:\n",
    "        imgs = imgs.to(device)\n",
    "        numeric_features = numeric_features.to(device)\n",
    "        price = price.to(device)\n",
    "        output=model(imgs, numeric_features)\n",
    "\n",
    "        loss = loss_fn(output, price)\n",
    "\n",
    "        # L2 Regularization\n",
    "        l2_lambda = 0.001\n",
    "        l2_norm = sum(p.pow(2).sum() for p in model.parameters())\n",
    "        loss = loss + l2_lambda * l2_norm\n",
    "\n",
    "        optimizer.zero_grad()\n",
    "        loss.backward()\n",
    "        optimizer.step()\n",
    "\n",
    "        loss_train += loss.item()"
   ]
  },
  {
   "cell_type": "code",
   "execution_count": null,
   "id": "7366a297",
   "metadata": {},
   "outputs": [],
   "source": []
  }
 ],
 "metadata": {
  "kernelspec": {
   "display_name": "Python 3",
   "language": "python",
   "name": "python3"
  },
  "language_info": {
   "codemirror_mode": {
    "name": "ipython",
    "version": 3
   },
   "file_extension": ".py",
   "mimetype": "text/x-python",
   "name": "python",
   "nbconvert_exporter": "python",
   "pygments_lexer": "ipython3",
   "version": "3.11.1"
  }
 },
 "nbformat": 4,
 "nbformat_minor": 5
}
