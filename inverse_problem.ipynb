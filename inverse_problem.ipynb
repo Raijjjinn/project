{
 "cells": [
  {
   "cell_type": "markdown",
   "id": "f50d5f4d",
   "metadata": {},
   "source": [
    "# Load in dataset"
   ]
  },
  {
   "cell_type": "code",
   "execution_count": 1,
   "id": "028f040e",
   "metadata": {},
   "outputs": [],
   "source": [
    "import pandas as pd\n",
    "import numpy as np\n",
    "import matplotlib.pyplot as plt"
   ]
  },
  {
   "cell_type": "code",
   "execution_count": 7,
   "id": "f24e3a33",
   "metadata": {},
   "outputs": [],
   "source": [
    "data = pd.read_csv(\"Datasets.csv\")"
   ]
  },
  {
   "cell_type": "code",
   "execution_count": 16,
   "id": "59ef3535",
   "metadata": {},
   "outputs": [],
   "source": [
    "parameters = list(data.columns)\n",
    "cell_data = data.filter(items=parameters[:-1])"
   ]
  },
  {
   "cell_type": "markdown",
   "id": "04bdffcb",
   "metadata": {},
   "source": [
    "# Image generation"
   ]
  },
  {
   "cell_type": "code",
   "execution_count": 33,
   "id": "b7bff127",
   "metadata": {},
   "outputs": [],
   "source": [
    "from math import sin, cos, radians"
   ]
  },
  {
   "cell_type": "code",
   "execution_count": 151,
   "id": "dc69bc20",
   "metadata": {},
   "outputs": [],
   "source": [
    "\"\"\"\n",
    "Takes in a Pandas series and generates an image of the re-entrant auxetic\n",
    "    described by the parameters\n",
    "\n",
    "Arguments:\n",
    "* data: Pandas series with 'Slant cell length', 'Cell thickness', 'Cell angle', \n",
    "    'Vertical cell length'\n",
    "* show: False if plot should not be displayed\n",
    "* save: True if the plot should be saved\n",
    "* fname: name of the file to save the plot into if save=True\n",
    "\"\"\"\n",
    "def gen_image(data, show=True, save=False, fname=''):\n",
    "    # ignoring cell thickness for now\n",
    "    slant_len = data[\"Slant cell length\"]\n",
    "    thickness = data[\"Cell thickness\"]\n",
    "    angle = data[\"Cell angle\"]\n",
    "    height = data[\"Vertical cell length\"]\n",
    "\n",
    "    # for calculating x and y coordinates of plot lines\n",
    "    slant_dx = slant_len * cos(radians(90 - angle))\n",
    "    slant_dy = slant_len * sin(radians(90 - angle))\n",
    "\n",
    "    # plot point generation\n",
    "    top = 1 + height\n",
    "    bottom = 1\n",
    "    center = 1 + slant_dx\n",
    "    left = 1\n",
    "    right = 1 + 2*slant_dx\n",
    "    # [ [[x values of 1st slant], [y values of 1st slant]], [...], [...], [...] ]\n",
    "    slants = [\n",
    "        [[left, center], [bottom, bottom + slant_dy]],\n",
    "        [[center, right], [bottom + slant_dy, bottom]],\n",
    "        [[left, center], [top, top - slant_dy]],\n",
    "        [[center, right],[top - slant_dy, top]]\n",
    "    ]\n",
    "    # vertical lines\n",
    "    verticals = [\n",
    "        [[left, left], [bottom, top]],\n",
    "        [[center, center], [bottom + slant_dy, bottom - 0.2*height]],\n",
    "        [[right, right], [bottom, top]],\n",
    "        [[center, center], [top - slant_dy, top + 0.2*height]]\n",
    "    ]\n",
    "\n",
    "    # plotting and saving\n",
    "    plt.cla()\n",
    "    for slant in slants:\n",
    "        plt.plot(*slant, color='black', linewidth=thickness*0.5)\n",
    "    for line in verticals:\n",
    "        plt.plot(*line, color='black', linewidth=thickness*0.5)\n",
    "    plt.axis('off')\n",
    "    \n",
    "    if save:\n",
    "        plt.savefig(fname)\n",
    "    if not show:\n",
    "        plt.close()\n",
    "\n",
    "\"\"\"\n",
    "Saves a group of images\n",
    "\n",
    "Arguments:\n",
    "* data: Pandas dataframe\n",
    "* indices: list of indices of rows in the dataframe to\n",
    "    generate images from\n",
    "\"\"\"\n",
    "def save_images(data, indices, folder='test'):\n",
    "    excluded = []\n",
    "    for idx in indices:\n",
    "        if idx >= data.shape[0]:\n",
    "            excluded.append(idx)\n",
    "            continue\n",
    "        gen_image(data.iloc[idx], show=False, save=True, fname=f'./images/{folder}/{idx}.png')\n",
    "    if excluded:\n",
    "        print(f\"indices excluded (not in range): {excluded}\")"
   ]
  },
  {
   "cell_type": "markdown",
   "id": "3b97b346",
   "metadata": {},
   "source": [
    "## Train vs. Test Split"
   ]
  },
  {
   "cell_type": "code",
   "execution_count": 117,
   "id": "1a2ce781",
   "metadata": {},
   "outputs": [],
   "source": [
    "import random"
   ]
  },
  {
   "cell_type": "code",
   "execution_count": null,
   "id": "036c3987",
   "metadata": {},
   "outputs": [],
   "source": [
    "train = data.sample(n=1500)\n",
    "test = data.sample(n=2500)\n",
    "print(f'{train.shape[0]} training samples')\n",
    "print(f'{test.shape[0]} test samples')"
   ]
  },
  {
   "cell_type": "markdown",
   "id": "127ca673",
   "metadata": {},
   "source": [
    "Checking distribution of each parameter"
   ]
  },
  {
   "cell_type": "code",
   "execution_count": null,
   "id": "d6737ae7",
   "metadata": {},
   "outputs": [],
   "source": [
    "# NOT NECESSARY FOR MODEL\n",
    "# original data\n",
    "for param in parameters[:-1]:\n",
    "    values = list(data[param])\n",
    "    unique_vals = set(values)\n",
    "    plt.title(f\"Original: {param}\")\n",
    "    plt.hist(values, bins=len(unique_vals), edgecolor='black')\n",
    "    plt.show()"
   ]
  },
  {
   "cell_type": "code",
   "execution_count": null,
   "id": "373ac912",
   "metadata": {},
   "outputs": [],
   "source": [
    "# NOT NECESSARY FOR MODEL\n",
    "# train data\n",
    "for param in parameters[:-1]:\n",
    "    values = list(train[param])\n",
    "    unique_vals = set(values)\n",
    "    plt.title(f\"Train: {param}\")\n",
    "    plt.hist(values, bins=len(unique_vals), edgecolor='black')\n",
    "    plt.show()"
   ]
  },
  {
   "cell_type": "code",
   "execution_count": null,
   "id": "42a58774",
   "metadata": {},
   "outputs": [],
   "source": [
    "# NOT NECESSARY FOR MODEL\n",
    "# test data\n",
    "for param in parameters[:-1]:\n",
    "    values = list(test[param])\n",
    "    unique_vals = set(values)\n",
    "    plt.title(f\"Test: {param}\")\n",
    "    plt.hist(values, bins=len(unique_vals), edgecolor='black')\n",
    "    plt.show()"
   ]
  },
  {
   "cell_type": "markdown",
   "id": "353b2e21",
   "metadata": {},
   "source": [
    "Generate ground truth labels and save images"
   ]
  },
  {
   "cell_type": "code",
   "execution_count": null,
   "id": "1c30e83c",
   "metadata": {},
   "outputs": [],
   "source": [
    "train_indices = list(train.index)\n",
    "test_indices = list(test.indices)"
   ]
  },
  {
   "cell_type": "code",
   "execution_count": 175,
   "id": "f3192ca5",
   "metadata": {},
   "outputs": [],
   "source": [
    "# Train labels\n",
    "train_labels = []\n",
    "for idx in train_indices:\n",
    "    poisson_ratio = data.iloc[idx][\"Poisson's ratio\"]\n",
    "    train_labels.append(poisson_ratio)"
   ]
  },
  {
   "cell_type": "code",
   "execution_count": null,
   "id": "ed78e1d3",
   "metadata": {},
   "outputs": [],
   "source": [
    "# Test labels\n",
    "test_labels = []\n",
    "for idx in test_indices:\n",
    "    poisson_ratio = data.iloc[idx][\"Poisson's ratio\"]\n",
    "    test_labels.append(poisson_ratio)"
   ]
  },
  {
   "cell_type": "code",
   "execution_count": null,
   "id": "13b7853e",
   "metadata": {},
   "outputs": [],
   "source": [
    "# Save training images\n",
    "save_images(data, train_indices, folder='train')"
   ]
  },
  {
   "cell_type": "code",
   "execution_count": null,
   "id": "ca682a5f",
   "metadata": {},
   "outputs": [],
   "source": [
    "# Save test images\n",
    "save_images(data, test_indices, folder='test')"
   ]
  },
  {
   "cell_type": "markdown",
   "id": "6cc7db71",
   "metadata": {},
   "source": [
    "# Model training"
   ]
  }
 ],
 "metadata": {
  "kernelspec": {
   "display_name": "Python 3",
   "language": "python",
   "name": "python3"
  },
  "language_info": {
   "codemirror_mode": {
    "name": "ipython",
    "version": 3
   },
   "file_extension": ".py",
   "mimetype": "text/x-python",
   "name": "python",
   "nbconvert_exporter": "python",
   "pygments_lexer": "ipython3",
   "version": "3.11.1"
  }
 },
 "nbformat": 4,
 "nbformat_minor": 5
}
