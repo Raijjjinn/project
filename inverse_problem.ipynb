{
 "cells": [
  {
   "cell_type": "markdown",
   "id": "f50d5f4d",
   "metadata": {},
   "source": [
    "# Load in dataset"
   ]
  },
  {
   "cell_type": "code",
   "execution_count": 1,
   "id": "028f040e",
   "metadata": {},
   "outputs": [],
   "source": [
    "import pandas as pd\n",
    "import numpy as np\n",
    "import matplotlib.pyplot as plt"
   ]
  },
  {
   "cell_type": "code",
   "execution_count": 7,
   "id": "f24e3a33",
   "metadata": {},
   "outputs": [],
   "source": [
    "data = pd.read_csv(\"Datasets.csv\")"
   ]
  },
  {
   "cell_type": "code",
   "execution_count": 16,
   "id": "59ef3535",
   "metadata": {},
   "outputs": [],
   "source": [
    "parameters = list(data.columns)\n",
    "cell_data = data.filter(items=parameters[:-1])"
   ]
  },
  {
   "cell_type": "code",
   "execution_count": 37,
   "id": "62398709",
   "metadata": {},
   "outputs": [
    {
     "data": {
      "text/plain": [
       "Slant cell length        4.0\n",
       "Cell thickness           2.0\n",
       "Cell angle              70.0\n",
       "Vertical cell length    25.0\n",
       "Name: 0, dtype: float64"
      ]
     },
     "execution_count": 37,
     "metadata": {},
     "output_type": "execute_result"
    }
   ],
   "source": [
    "cell_data.iloc[0]"
   ]
  },
  {
   "cell_type": "markdown",
   "id": "04bdffcb",
   "metadata": {},
   "source": [
    "# Image generation"
   ]
  },
  {
   "cell_type": "code",
   "execution_count": 33,
   "id": "b7bff127",
   "metadata": {},
   "outputs": [],
   "source": [
    "from math import sin, cos, radians"
   ]
  },
  {
   "cell_type": "code",
   "execution_count": null,
   "id": "dc69bc20",
   "metadata": {},
   "outputs": [
    {
     "data": {
      "image/png": "[encoded data removed]",
      "text/plain": [
       "<Figure size 640x480 with 1 Axes>"
      ]
     },
     "metadata": {},
     "output_type": "display_data"
    }
   ],
   "source": [
    "def gen_image(data):\n",
    "    # ignoring cell thickness for now\n",
    "    slant_len = data[\"Slant cell length\"]\n",
    "    angle = data[\"Cell angle\"]\n",
    "    height = data[\"Vertical cell length\"]\n",
    "    # for calculating x and y coordinates of plot lines\n",
    "    slant_dx = slant_len * cos(radians(90 - angle))\n",
    "    slant_dy = slant_len * sin(radians(90 - angle))\n",
    "    # plotting\n",
    "    top = 1 + height\n",
    "    bottom = 1\n",
    "    center = 1 + slant_dx\n",
    "    left = 1\n",
    "    right = 1 + 2*slant_dx\n",
    "    # [ [[x values of 1st slant], [y values of 1st slant]], [...], [...], [...] ]\n",
    "    slants = [\n",
    "        [[left, center], [bottom, bottom + slant_dy]],\n",
    "        [[center, right], [bottom + slant_dy, bottom]],\n",
    "        [[left, center], [top, top - slant_dy]],\n",
    "        [[center, right],[top - slant_dy, top]]\n",
    "    ]\n",
    "    # plotting\n",
    "    plt.xlim(left - 0.5*slant_dx, 0.5*slant_dx + right)\n",
    "    for slant in slants:\n",
    "        plt.plot(*slant, color='black')\n",
    "    # vertical lines\n",
    "    verticals = [\n",
    "        [[left, left], [bottom, top]],\n",
    "        [[center, center], [bottom + slant_dy, bottom - 0.2*height]],\n",
    "        [[right, right], [bottom, top]],\n",
    "        [[center, center], [top - slant_dy, top + 0.2*height]]\n",
    "    ]\n",
    "    for line in verticals:\n",
    "        plt.plot(*line, color='black')\n",
    "\n",
    "gen_image(cell_data.iloc[0])"
   ]
  },
  {
   "cell_type": "code",
   "execution_count": null,
   "id": "c134417a",
   "metadata": {},
   "outputs": [
    {
     "data": {
      "text/plain": [
       "2.39503"
      ]
     },
     "execution_count": 32,
     "metadata": {},
     "output_type": "execute_result"
    }
   ],
   "source": []
  }
 ],
 "metadata": {
  "kernelspec": {
   "display_name": "Python 3",
   "language": "python",
   "name": "python3"
  },
  "language_info": {
   "codemirror_mode": {
    "name": "ipython",
    "version": 3
   },
   "file_extension": ".py",
   "mimetype": "text/x-python",
   "name": "python",
   "nbconvert_exporter": "python",
   "pygments_lexer": "ipython3",
   "version": "3.11.1"
  }
 },
 "nbformat": 4,
 "nbformat_minor": 5
}
