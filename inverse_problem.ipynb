{
 "cells": [
  {
   "cell_type": "markdown",
   "id": "f50d5f4d",
   "metadata": {},
   "source": [
    "# Load in dataset"
   ]
  },
  {
   "cell_type": "code",
   "execution_count": 1,
   "id": "028f040e",
   "metadata": {},
   "outputs": [],
   "source": [
    "import pandas as pd\n",
    "import numpy as np\n",
    "import matplotlib.pyplot as plt"
   ]
  },
  {
   "cell_type": "code",
   "execution_count": 7,
   "id": "f24e3a33",
   "metadata": {},
   "outputs": [],
   "source": [
    "data = pd.read_csv(\"Datasets.csv\")"
   ]
  },
  {
   "cell_type": "code",
   "execution_count": 16,
   "id": "59ef3535",
   "metadata": {},
   "outputs": [],
   "source": [
    "parameters = list(data.columns)\n",
    "cell_data = data.filter(items=parameters[:-1])"
   ]
  },
  {
   "cell_type": "markdown",
   "id": "04bdffcb",
   "metadata": {},
   "source": [
    "# Image generation"
   ]
  },
  {
   "cell_type": "code",
   "execution_count": 33,
   "id": "b7bff127",
   "metadata": {},
   "outputs": [],
   "source": [
    "from math import sin, cos, radians"
   ]
  },
  {
   "cell_type": "code",
   "execution_count": 87,
   "id": "dc69bc20",
   "metadata": {},
   "outputs": [],
   "source": [
    "\"\"\"\n",
    "Takes in a Pandas series and generates an image of the re-entrant auxetic\n",
    "    described by the parameters\n",
    "\n",
    "Arguments:\n",
    "* data: Pandas series with 'Slant cell length', 'Cell thickness', 'Cell angle', \n",
    "    'Vertical cell length'\n",
    "* show: False if plot should not be displayed\n",
    "* save: True if the plot should be saved\n",
    "* fname: name of the file to save the plot into if save=True\n",
    "\"\"\"\n",
    "def gen_image(data, show=True, save=False, fname=''):\n",
    "    # ignoring cell thickness for now\n",
    "    slant_len = data[\"Slant cell length\"]\n",
    "    angle = data[\"Cell angle\"]\n",
    "    height = data[\"Vertical cell length\"]\n",
    "\n",
    "    # for calculating x and y coordinates of plot lines\n",
    "    slant_dx = slant_len * cos(radians(90 - angle))\n",
    "    slant_dy = slant_len * sin(radians(90 - angle))\n",
    "\n",
    "    # plot point generation\n",
    "    top = 1 + height\n",
    "    bottom = 1\n",
    "    center = 1 + slant_dx\n",
    "    left = 1\n",
    "    right = 1 + 2*slant_dx\n",
    "    # [ [[x values of 1st slant], [y values of 1st slant]], [...], [...], [...] ]\n",
    "    slants = [\n",
    "        [[left, center], [bottom, bottom + slant_dy]],\n",
    "        [[center, right], [bottom + slant_dy, bottom]],\n",
    "        [[left, center], [top, top - slant_dy]],\n",
    "        [[center, right],[top - slant_dy, top]]\n",
    "    ]\n",
    "    # vertical lines\n",
    "    verticals = [\n",
    "        [[left, left], [bottom, top]],\n",
    "        [[center, center], [bottom + slant_dy, bottom - 0.2*height]],\n",
    "        [[right, right], [bottom, top]],\n",
    "        [[center, center], [top - slant_dy, top + 0.2*height]]\n",
    "    ]\n",
    "\n",
    "    # plotting and saving\n",
    "    plt.cla()\n",
    "    for slant in slants:\n",
    "        plt.plot(*slant, color='black')\n",
    "    for line in verticals:\n",
    "        plt.plot(*line, color='black')\n",
    "    plt.axis('off')\n",
    "    \n",
    "    if save:\n",
    "        plt.savefig(fname)\n",
    "    if not show:\n",
    "        plt.close()\n",
    "\n",
    "\"\"\"\n",
    "Saves a group of images\n",
    "\n",
    "Arguments:\n",
    "* data: Pandas dataframe\n",
    "* indices: list of indices of rows in the dataframe to\n",
    "    generate images from\n",
    "\"\"\"\n",
    "def save_images(data, indices):\n",
    "    for idx in indices:\n",
    "        gen_image(data.iloc[idx], show=False, save=True, fname=f'./images/{idx}.png')"
   ]
  },
  {
   "cell_type": "code",
   "execution_count": 84,
   "id": "0502420f",
   "metadata": {},
   "outputs": [
    {
     "data": {
      "image/png": "[encoded data removed]",
      "text/plain": [
       "<Figure size 640x480 with 1 Axes>"
      ]
     },
     "metadata": {},
     "output_type": "display_data"
    }
   ],
   "source": [
    "gen_image(data.iloc[5000], save=True, fname='5000.png')\n",
    "gen_image(data.iloc[0], save=True, fname='0.png')"
   ]
  },
  {
   "cell_type": "code",
   "execution_count": null,
   "id": "5e3f608f",
   "metadata": {},
   "outputs": [],
   "source": [
    "save_images(data, [0, 5000])"
   ]
  }
 ],
 "metadata": {
  "kernelspec": {
   "display_name": "Python 3",
   "language": "python",
   "name": "python3"
  },
  "language_info": {
   "codemirror_mode": {
    "name": "ipython",
    "version": 3
   },
   "file_extension": ".py",
   "mimetype": "text/x-python",
   "name": "python",
   "nbconvert_exporter": "python",
   "pygments_lexer": "ipython3",
   "version": "3.11.1"
  }
 },
 "nbformat": 4,
 "nbformat_minor": 5
}
