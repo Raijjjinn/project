{
 "cells": [
  {
   "cell_type": "markdown",
   "metadata": {},
   "source": [
    "# Part 1: MLP Model for Prediction"
   ]
  },
  {
   "cell_type": "code",
   "execution_count": 3,
   "metadata": {},
   "outputs": [],
   "source": [
    "import torch\n",
    "import torch.nn as nn\n",
    "import torch.optim as optim\n",
    "from torch.utils.data import Dataset, DataLoader\n",
    "from sklearn.model_selection import train_test_split\n",
    "from sklearn.preprocessing import StandardScaler\n",
    "import pandas as pd"
   ]
  },
  {
   "cell_type": "code",
   "execution_count": 4,
   "metadata": {},
   "outputs": [],
   "source": [
    "# 1. Load your dataset\n",
    "data = pd.read_csv(\"Datasets.csv\")  # Replace with your actual file path"
   ]
  },
  {
   "cell_type": "code",
   "execution_count": 5,
   "metadata": {},
   "outputs": [],
   "source": [
    "# 2. Separate features (X/params) and target (y/poisson)\n",
    "params = data.iloc[:, :-1]\n",
    "poisson = data.iloc[:,-1:]\n"
   ]
  },
  {
   "cell_type": "code",
   "execution_count": 6,
   "metadata": {},
   "outputs": [],
   "source": [
    "# 3. Split data into training and testing sets\n",
    "X_train, X_test, y_train, y_test = train_test_split(params, poisson, test_size=0.2, random_state=42)"
   ]
  },
  {
   "cell_type": "code",
   "execution_count": 7,
   "metadata": {},
   "outputs": [],
   "source": [
    "# 4. Scale the features and the target\n",
    "feature_scaler = StandardScaler()\n",
    "X_train_scaled = feature_scaler.fit_transform(X_train)\n",
    "X_test_scaled = feature_scaler.transform(X_test)\n",
    "\n",
    "target_scaler = StandardScaler()\n",
    "y_train_scaled = target_scaler.fit_transform(y_train)\n",
    "y_test_scaled = target_scaler.transform(y_test)\n"
   ]
  },
  {
   "cell_type": "code",
   "execution_count": 8,
   "metadata": {},
   "outputs": [],
   "source": [
    "# 5. Create PyTorch Datasets\n",
    "class ReentrantDataset(Dataset):\n",
    "    def __init__(self, X, y):\n",
    "        self.X = torch.tensor(X, dtype=torch.float32)\n",
    "        self.y = torch.tensor(y, dtype=torch.float32)\n",
    "\n",
    "    def __len__(self):\n",
    "        return len(self.X)\n",
    "\n",
    "    def __getitem__(self, idx):\n",
    "        return self.X[idx], self.y[idx]\n",
    "\n",
    "train_dataset = ReentrantDataset(X_train_scaled, y_train_scaled)\n",
    "test_dataset = ReentrantDataset(X_test_scaled, y_test_scaled)\n"
   ]
  },
  {
   "cell_type": "code",
   "execution_count": 9,
   "metadata": {},
   "outputs": [],
   "source": [
    "# 6. Create DataLoaders\n",
    "batch_size = 64\n",
    "train_loader = DataLoader(train_dataset, batch_size=batch_size, shuffle=True)\n",
    "test_loader = DataLoader(test_dataset, batch_size=batch_size)\n"
   ]
  },
  {
   "cell_type": "code",
   "execution_count": 8,
   "metadata": {},
   "outputs": [],
   "source": [
    "# 7. Define the MLP Model\n",
    "class PoissonPredictor(nn.Module):\n",
    "    def __init__(self, input_size):\n",
    "        super(PoissonPredictor, self).__init__()\n",
    "        self.fc1 = nn.Linear(input_size, 64)\n",
    "        self.relu1 = nn.ReLU()\n",
    "        self.fc2 = nn.Linear(64, 32)\n",
    "        self.relu2 = nn.ReLU()\n",
    "        self.fc3 = nn.Linear(32, 16)\n",
    "        self.relu3 = nn.ReLU()\n",
    "        self.fc_out = nn.Linear(16, 1)\n",
    "\n",
    "    def forward(self, x):\n",
    "        x = self.relu1(self.fc1(x))\n",
    "        x = self.relu2(self.fc2(x))\n",
    "        x = self.relu3(self.fc3(x))\n",
    "        x = self.fc_out(x)\n",
    "        return x\n",
    "\n",
    "input_size = X_train_scaled.shape[1]  # Number of features\n",
    "model = PoissonPredictor(input_size)\n"
   ]
  },
  {
   "cell_type": "code",
   "execution_count": 18,
   "metadata": {},
   "outputs": [
    {
     "ename": "AttributeError",
     "evalue": "module 'sympy' has no attribute 'printing'",
     "output_type": "error",
     "traceback": [
      "\u001b[0;31m---------------------------------------------------------------------------\u001b[0m",
      "\u001b[0;31mAttributeError\u001b[0m                            Traceback (most recent call last)",
      "Cell \u001b[0;32mIn[18], line 3\u001b[0m\n\u001b[1;32m      1\u001b[0m \u001b[38;5;66;03m# 8. Define Loss Function and Optimizer\u001b[39;00m\n\u001b[1;32m      2\u001b[0m criterion \u001b[38;5;241m=\u001b[39m nn\u001b[38;5;241m.\u001b[39mMSELoss()\n\u001b[0;32m----> 3\u001b[0m optimizer \u001b[38;5;241m=\u001b[39m optim\u001b[38;5;241m.\u001b[39mAdam(model\u001b[38;5;241m.\u001b[39mparameters(), lr\u001b[38;5;241m=\u001b[39m\u001b[38;5;241m0.001\u001b[39m)\n",
      "File \u001b[0;32m/opt/homebrew/anaconda3/lib/python3.12/site-packages/torch/optim/adam.py:99\u001b[0m, in \u001b[0;36mAdam.__init__\u001b[0;34m(self, params, lr, betas, eps, weight_decay, amsgrad, foreach, maximize, capturable, differentiable, fused)\u001b[0m\n\u001b[1;32m     85\u001b[0m         \u001b[38;5;28;01mraise\u001b[39;00m \u001b[38;5;167;01mValueError\u001b[39;00m(\u001b[38;5;124m\"\u001b[39m\u001b[38;5;124mTensor betas[1] must be 1-element\u001b[39m\u001b[38;5;124m\"\u001b[39m)\n\u001b[1;32m     87\u001b[0m defaults \u001b[38;5;241m=\u001b[39m \u001b[38;5;28mdict\u001b[39m(\n\u001b[1;32m     88\u001b[0m     lr\u001b[38;5;241m=\u001b[39mlr,\n\u001b[1;32m     89\u001b[0m     betas\u001b[38;5;241m=\u001b[39mbetas,\n\u001b[0;32m   (...)\u001b[0m\n\u001b[1;32m     97\u001b[0m     fused\u001b[38;5;241m=\u001b[39mfused,\n\u001b[1;32m     98\u001b[0m )\n\u001b[0;32m---> 99\u001b[0m \u001b[38;5;28msuper\u001b[39m()\u001b[38;5;241m.\u001b[39m\u001b[38;5;21m__init__\u001b[39m(params, defaults)\n\u001b[1;32m    101\u001b[0m \u001b[38;5;28;01mif\u001b[39;00m fused:\n\u001b[1;32m    102\u001b[0m     \u001b[38;5;28;01mif\u001b[39;00m differentiable:\n",
      "File \u001b[0;32m/opt/homebrew/anaconda3/lib/python3.12/site-packages/torch/optim/optimizer.py:377\u001b[0m, in \u001b[0;36mOptimizer.__init__\u001b[0;34m(self, params, defaults)\u001b[0m\n\u001b[1;32m    374\u001b[0m     param_groups \u001b[38;5;241m=\u001b[39m [{\u001b[38;5;124m\"\u001b[39m\u001b[38;5;124mparams\u001b[39m\u001b[38;5;124m\"\u001b[39m: param_groups}]\n\u001b[1;32m    376\u001b[0m \u001b[38;5;28;01mfor\u001b[39;00m param_group \u001b[38;5;129;01min\u001b[39;00m param_groups:\n\u001b[0;32m--> 377\u001b[0m     \u001b[38;5;28mself\u001b[39m\u001b[38;5;241m.\u001b[39madd_param_group(cast(\u001b[38;5;28mdict\u001b[39m, param_group))\n\u001b[1;32m    379\u001b[0m \u001b[38;5;66;03m# Allows _cuda_graph_capture_health_check to rig a poor man's TORCH_WARN_ONCE in python,\u001b[39;00m\n\u001b[1;32m    380\u001b[0m \u001b[38;5;66;03m# which I don't think exists\u001b[39;00m\n\u001b[1;32m    381\u001b[0m \u001b[38;5;66;03m# https://github.com/pytorch/pytorch/issues/72948\u001b[39;00m\n\u001b[1;32m    382\u001b[0m \u001b[38;5;28mself\u001b[39m\u001b[38;5;241m.\u001b[39m_warned_capturable_if_run_uncaptured \u001b[38;5;241m=\u001b[39m \u001b[38;5;28;01mTrue\u001b[39;00m\n",
      "File \u001b[0;32m/opt/homebrew/anaconda3/lib/python3.12/site-packages/torch/_compile.py:27\u001b[0m, in \u001b[0;36m_disable_dynamo.<locals>.inner\u001b[0;34m(*args, **kwargs)\u001b[0m\n\u001b[1;32m     25\u001b[0m disable_fn \u001b[38;5;241m=\u001b[39m \u001b[38;5;28mgetattr\u001b[39m(fn, \u001b[38;5;124m\"\u001b[39m\u001b[38;5;124m__dynamo_disable\u001b[39m\u001b[38;5;124m\"\u001b[39m, \u001b[38;5;28;01mNone\u001b[39;00m)\n\u001b[1;32m     26\u001b[0m \u001b[38;5;28;01mif\u001b[39;00m disable_fn \u001b[38;5;129;01mis\u001b[39;00m \u001b[38;5;28;01mNone\u001b[39;00m:\n\u001b[0;32m---> 27\u001b[0m     \u001b[38;5;28;01mimport\u001b[39;00m \u001b[38;5;21;01mtorch\u001b[39;00m\u001b[38;5;21;01m.\u001b[39;00m\u001b[38;5;21;01m_dynamo\u001b[39;00m\n\u001b[1;32m     29\u001b[0m     disable_fn \u001b[38;5;241m=\u001b[39m torch\u001b[38;5;241m.\u001b[39m_dynamo\u001b[38;5;241m.\u001b[39mdisable(fn, recursive)\n\u001b[1;32m     30\u001b[0m     fn\u001b[38;5;241m.\u001b[39m__dynamo_disable \u001b[38;5;241m=\u001b[39m disable_fn\n",
      "File \u001b[0;32m/opt/homebrew/anaconda3/lib/python3.12/site-packages/torch/_dynamo/__init__.py:3\u001b[0m\n\u001b[1;32m      1\u001b[0m \u001b[38;5;28;01mimport\u001b[39;00m \u001b[38;5;21;01mtorch\u001b[39;00m\n\u001b[0;32m----> 3\u001b[0m \u001b[38;5;28;01mfrom\u001b[39;00m \u001b[38;5;21;01m.\u001b[39;00m \u001b[38;5;28;01mimport\u001b[39;00m convert_frame, eval_frame, resume_execution\n\u001b[1;32m      4\u001b[0m \u001b[38;5;28;01mfrom\u001b[39;00m \u001b[38;5;21;01m.\u001b[39;00m\u001b[38;5;21;01mbackends\u001b[39;00m\u001b[38;5;21;01m.\u001b[39;00m\u001b[38;5;21;01mregistry\u001b[39;00m \u001b[38;5;28;01mimport\u001b[39;00m list_backends, lookup_backend, register_backend\n\u001b[1;32m      5\u001b[0m \u001b[38;5;28;01mfrom\u001b[39;00m \u001b[38;5;21;01m.\u001b[39;00m\u001b[38;5;21;01mcallback\u001b[39;00m \u001b[38;5;28;01mimport\u001b[39;00m callback_handler, on_compile_end, on_compile_start\n",
      "File \u001b[0;32m/opt/homebrew/anaconda3/lib/python3.12/site-packages/torch/_dynamo/convert_frame.py:33\u001b[0m\n\u001b[1;32m     31\u001b[0m \u001b[38;5;28;01mfrom\u001b[39;00m \u001b[38;5;21;01mtorch\u001b[39;00m\u001b[38;5;21;01m.\u001b[39;00m\u001b[38;5;21;01m_C\u001b[39;00m\u001b[38;5;21;01m.\u001b[39;00m\u001b[38;5;21;01m_dynamo\u001b[39;00m\u001b[38;5;21;01m.\u001b[39;00m\u001b[38;5;21;01mguards\u001b[39;00m \u001b[38;5;28;01mimport\u001b[39;00m GlobalStateGuard\n\u001b[1;32m     32\u001b[0m \u001b[38;5;28;01mfrom\u001b[39;00m \u001b[38;5;21;01mtorch\u001b[39;00m\u001b[38;5;21;01m.\u001b[39;00m\u001b[38;5;21;01m_dynamo\u001b[39;00m\u001b[38;5;21;01m.\u001b[39;00m\u001b[38;5;21;01mdistributed\u001b[39;00m \u001b[38;5;28;01mimport\u001b[39;00m get_compile_pg\n\u001b[0;32m---> 33\u001b[0m \u001b[38;5;28;01mfrom\u001b[39;00m \u001b[38;5;21;01mtorch\u001b[39;00m\u001b[38;5;21;01m.\u001b[39;00m\u001b[38;5;21;01m_dynamo\u001b[39;00m\u001b[38;5;21;01m.\u001b[39;00m\u001b[38;5;21;01msymbolic_convert\u001b[39;00m \u001b[38;5;28;01mimport\u001b[39;00m TensorifyState\n\u001b[1;32m     34\u001b[0m \u001b[38;5;28;01mfrom\u001b[39;00m \u001b[38;5;21;01mtorch\u001b[39;00m\u001b[38;5;21;01m.\u001b[39;00m\u001b[38;5;21;01m_guards\u001b[39;00m \u001b[38;5;28;01mimport\u001b[39;00m compile_context, CompileContext, CompileId, tracing\n\u001b[1;32m     35\u001b[0m \u001b[38;5;28;01mfrom\u001b[39;00m \u001b[38;5;21;01mtorch\u001b[39;00m\u001b[38;5;21;01m.\u001b[39;00m\u001b[38;5;21;01m_logging\u001b[39;00m \u001b[38;5;28;01mimport\u001b[39;00m structured\n",
      "File \u001b[0;32m/opt/homebrew/anaconda3/lib/python3.12/site-packages/torch/_dynamo/symbolic_convert.py:27\u001b[0m\n\u001b[1;32m     25\u001b[0m \u001b[38;5;28;01mimport\u001b[39;00m \u001b[38;5;21;01mtorch\u001b[39;00m\n\u001b[1;32m     26\u001b[0m \u001b[38;5;28;01mimport\u001b[39;00m \u001b[38;5;21;01mtorch\u001b[39;00m\u001b[38;5;21;01m.\u001b[39;00m\u001b[38;5;21;01m_logging\u001b[39;00m\n\u001b[0;32m---> 27\u001b[0m \u001b[38;5;28;01mfrom\u001b[39;00m \u001b[38;5;21;01mtorch\u001b[39;00m\u001b[38;5;21;01m.\u001b[39;00m\u001b[38;5;21;01m_dynamo\u001b[39;00m\u001b[38;5;21;01m.\u001b[39;00m\u001b[38;5;21;01mexc\u001b[39;00m \u001b[38;5;28;01mimport\u001b[39;00m TensorifyScalarRestartAnalysis\n\u001b[1;32m     28\u001b[0m \u001b[38;5;28;01mfrom\u001b[39;00m \u001b[38;5;21;01mtorch\u001b[39;00m\u001b[38;5;21;01m.\u001b[39;00m\u001b[38;5;21;01m_guards\u001b[39;00m \u001b[38;5;28;01mimport\u001b[39;00m tracing, TracingContext\n\u001b[1;32m     30\u001b[0m \u001b[38;5;28;01mfrom\u001b[39;00m \u001b[38;5;21;01m.\u001b[39;00m \u001b[38;5;28;01mimport\u001b[39;00m config, exc, logging \u001b[38;5;28;01mas\u001b[39;00m torchdynamo_logging, trace_rules, variables\n",
      "File \u001b[0;32m/opt/homebrew/anaconda3/lib/python3.12/site-packages/torch/_dynamo/exc.py:11\u001b[0m\n\u001b[1;32m      8\u001b[0m \u001b[38;5;28;01mimport\u001b[39;00m \u001b[38;5;21;01mtorch\u001b[39;00m\u001b[38;5;21;01m.\u001b[39;00m\u001b[38;5;21;01m_guards\u001b[39;00m\n\u001b[1;32m     10\u001b[0m \u001b[38;5;28;01mfrom\u001b[39;00m \u001b[38;5;21;01m.\u001b[39;00m \u001b[38;5;28;01mimport\u001b[39;00m config\n\u001b[0;32m---> 11\u001b[0m \u001b[38;5;28;01mfrom\u001b[39;00m \u001b[38;5;21;01m.\u001b[39;00m\u001b[38;5;21;01mutils\u001b[39;00m \u001b[38;5;28;01mimport\u001b[39;00m counters\n\u001b[1;32m     14\u001b[0m \u001b[38;5;28;01mif\u001b[39;00m TYPE_CHECKING:\n\u001b[1;32m     15\u001b[0m     \u001b[38;5;28;01mfrom\u001b[39;00m \u001b[38;5;21;01mtorch\u001b[39;00m\u001b[38;5;21;01m.\u001b[39;00m\u001b[38;5;21;01m_guards\u001b[39;00m \u001b[38;5;28;01mimport\u001b[39;00m CompileId\n",
      "File \u001b[0;32m/opt/homebrew/anaconda3/lib/python3.12/site-packages/torch/_dynamo/utils.py:66\u001b[0m\n\u001b[1;32m     64\u001b[0m \u001b[38;5;28;01mimport\u001b[39;00m \u001b[38;5;21;01mtorch\u001b[39;00m\n\u001b[1;32m     65\u001b[0m \u001b[38;5;28;01mimport\u001b[39;00m \u001b[38;5;21;01mtorch\u001b[39;00m\u001b[38;5;21;01m.\u001b[39;00m\u001b[38;5;21;01m_functorch\u001b[39;00m\u001b[38;5;21;01m.\u001b[39;00m\u001b[38;5;21;01mconfig\u001b[39;00m\n\u001b[0;32m---> 66\u001b[0m \u001b[38;5;28;01mimport\u001b[39;00m \u001b[38;5;21;01mtorch\u001b[39;00m\u001b[38;5;21;01m.\u001b[39;00m\u001b[38;5;21;01mfx\u001b[39;00m\u001b[38;5;21;01m.\u001b[39;00m\u001b[38;5;21;01mexperimental\u001b[39;00m\u001b[38;5;21;01m.\u001b[39;00m\u001b[38;5;21;01msymbolic_shapes\u001b[39;00m\n\u001b[1;32m     67\u001b[0m \u001b[38;5;28;01mimport\u001b[39;00m \u001b[38;5;21;01mtorch\u001b[39;00m\u001b[38;5;21;01m.\u001b[39;00m\u001b[38;5;21;01mutils\u001b[39;00m\u001b[38;5;21;01m.\u001b[39;00m\u001b[38;5;21;01m_pytree\u001b[39;00m \u001b[38;5;28;01mas\u001b[39;00m \u001b[38;5;21;01mpytree\u001b[39;00m\n\u001b[1;32m     68\u001b[0m \u001b[38;5;28;01mfrom\u001b[39;00m \u001b[38;5;21;01mtorch\u001b[39;00m \u001b[38;5;28;01mimport\u001b[39;00m fx\n",
      "File \u001b[0;32m/opt/homebrew/anaconda3/lib/python3.12/site-packages/torch/fx/experimental/symbolic_shapes.py:74\u001b[0m\n\u001b[1;32m     72\u001b[0m \u001b[38;5;28;01mfrom\u001b[39;00m \u001b[38;5;21;01mtorch\u001b[39;00m\u001b[38;5;21;01m.\u001b[39;00m\u001b[38;5;21;01mutils\u001b[39;00m\u001b[38;5;21;01m.\u001b[39;00m\u001b[38;5;21;01m_ordered_set\u001b[39;00m \u001b[38;5;28;01mimport\u001b[39;00m OrderedSet\n\u001b[1;32m     73\u001b[0m \u001b[38;5;28;01mfrom\u001b[39;00m \u001b[38;5;21;01mtorch\u001b[39;00m\u001b[38;5;21;01m.\u001b[39;00m\u001b[38;5;21;01mutils\u001b[39;00m\u001b[38;5;21;01m.\u001b[39;00m\u001b[38;5;21;01m_python_dispatch\u001b[39;00m \u001b[38;5;28;01mimport\u001b[39;00m is_traceable_wrapper_subclass\n\u001b[0;32m---> 74\u001b[0m \u001b[38;5;28;01mfrom\u001b[39;00m \u001b[38;5;21;01mtorch\u001b[39;00m\u001b[38;5;21;01m.\u001b[39;00m\u001b[38;5;21;01mutils\u001b[39;00m\u001b[38;5;21;01m.\u001b[39;00m\u001b[38;5;21;01m_sympy\u001b[39;00m\u001b[38;5;21;01m.\u001b[39;00m\u001b[38;5;21;01mfunctions\u001b[39;00m \u001b[38;5;28;01mimport\u001b[39;00m (\n\u001b[1;32m     75\u001b[0m     Application,\n\u001b[1;32m     76\u001b[0m     CeilToInt,\n\u001b[1;32m     77\u001b[0m     CleanDiv,\n\u001b[1;32m     78\u001b[0m     FloorDiv,\n\u001b[1;32m     79\u001b[0m     FloorToInt,\n\u001b[1;32m     80\u001b[0m     IsNonOverlappingAndDenseIndicator,\n\u001b[1;32m     81\u001b[0m     Mod,\n\u001b[1;32m     82\u001b[0m     PythonMod,\n\u001b[1;32m     83\u001b[0m )\n\u001b[1;32m     84\u001b[0m \u001b[38;5;28;01mfrom\u001b[39;00m \u001b[38;5;21;01mtorch\u001b[39;00m\u001b[38;5;21;01m.\u001b[39;00m\u001b[38;5;21;01mutils\u001b[39;00m\u001b[38;5;21;01m.\u001b[39;00m\u001b[38;5;21;01m_sympy\u001b[39;00m\u001b[38;5;21;01m.\u001b[39;00m\u001b[38;5;21;01mnumbers\u001b[39;00m \u001b[38;5;28;01mimport\u001b[39;00m int_oo\n\u001b[1;32m     85\u001b[0m \u001b[38;5;28;01mfrom\u001b[39;00m \u001b[38;5;21;01mtorch\u001b[39;00m\u001b[38;5;21;01m.\u001b[39;00m\u001b[38;5;21;01mutils\u001b[39;00m\u001b[38;5;21;01m.\u001b[39;00m\u001b[38;5;21;01m_sympy\u001b[39;00m\u001b[38;5;21;01m.\u001b[39;00m\u001b[38;5;21;01mprinters\u001b[39;00m \u001b[38;5;28;01mimport\u001b[39;00m PythonPrinter\n",
      "File \u001b[0;32m/opt/homebrew/anaconda3/lib/python3.12/site-packages/torch/utils/_sympy/functions.py:185\u001b[0m\n\u001b[1;32m    164\u001b[0m     \u001b[38;5;28;01mreturn\u001b[39;00m gcd  \u001b[38;5;66;03m# type: ignore[return-value]  # remove in py3.12\u001b[39;00m\n\u001b[1;32m    167\u001b[0m \u001b[38;5;66;03m# It would be nice to have assertions on whether or not inputs is_integer\u001b[39;00m\n\u001b[1;32m    168\u001b[0m \u001b[38;5;66;03m# However, with bugs like https://github.com/sympy/sympy/issues/26620 sympy\u001b[39;00m\n\u001b[1;32m    169\u001b[0m \u001b[38;5;66;03m# sometimes inconsistently reports floats an integers.\u001b[39;00m\n\u001b[0;32m   (...)\u001b[0m\n\u001b[1;32m    183\u001b[0m \u001b[38;5;66;03m# Right now, FloorDiv de facto changes behavior if arguments are negative or\u001b[39;00m\n\u001b[1;32m    184\u001b[0m \u001b[38;5;66;03m# not, this can potentially cause correctness issues.\u001b[39;00m\n\u001b[0;32m--> 185\u001b[0m \u001b[38;5;28;01mclass\u001b[39;00m \u001b[38;5;21;01mFloorDiv\u001b[39;00m(sympy\u001b[38;5;241m.\u001b[39mFunction):\n\u001b[1;32m    186\u001b[0m \u001b[38;5;250m    \u001b[39m\u001b[38;5;124;03m\"\"\"\u001b[39;00m\n\u001b[1;32m    187\u001b[0m \u001b[38;5;124;03m    We maintain this so that:\u001b[39;00m\n\u001b[1;32m    188\u001b[0m \u001b[38;5;124;03m    1. We can use divisibility guards to simplify FloorDiv(a, b) to a / b.\u001b[39;00m\n\u001b[0;32m   (...)\u001b[0m\n\u001b[1;32m    191\u001b[0m \u001b[38;5;124;03m    NB: This is Python-style floor division, round to -Inf\u001b[39;00m\n\u001b[1;32m    192\u001b[0m \u001b[38;5;124;03m    \"\"\"\u001b[39;00m\n\u001b[1;32m    194\u001b[0m     nargs: Tuple[\u001b[38;5;28mint\u001b[39m, \u001b[38;5;241m.\u001b[39m\u001b[38;5;241m.\u001b[39m\u001b[38;5;241m.\u001b[39m] \u001b[38;5;241m=\u001b[39m (\u001b[38;5;241m2\u001b[39m,)\n",
      "File \u001b[0;32m/opt/homebrew/anaconda3/lib/python3.12/site-packages/torch/utils/_sympy/functions.py:206\u001b[0m, in \u001b[0;36mFloorDiv\u001b[0;34m()\u001b[0m\n\u001b[1;32m    202\u001b[0m \u001b[38;5;129m@property\u001b[39m\n\u001b[1;32m    203\u001b[0m \u001b[38;5;28;01mdef\u001b[39;00m \u001b[38;5;21mdivisor\u001b[39m(\u001b[38;5;28mself\u001b[39m) \u001b[38;5;241m-\u001b[39m\u001b[38;5;241m>\u001b[39m sympy\u001b[38;5;241m.\u001b[39mBasic:\n\u001b[1;32m    204\u001b[0m     \u001b[38;5;28;01mreturn\u001b[39;00m \u001b[38;5;28mself\u001b[39m\u001b[38;5;241m.\u001b[39margs[\u001b[38;5;241m1\u001b[39m]\n\u001b[0;32m--> 206\u001b[0m \u001b[38;5;28;01mdef\u001b[39;00m \u001b[38;5;21m_sympystr\u001b[39m(\u001b[38;5;28mself\u001b[39m, printer: sympy\u001b[38;5;241m.\u001b[39mprinting\u001b[38;5;241m.\u001b[39mStrPrinter) \u001b[38;5;241m-\u001b[39m\u001b[38;5;241m>\u001b[39m \u001b[38;5;28mstr\u001b[39m:\n\u001b[1;32m    207\u001b[0m     base \u001b[38;5;241m=\u001b[39m printer\u001b[38;5;241m.\u001b[39mparenthesize(\u001b[38;5;28mself\u001b[39m\u001b[38;5;241m.\u001b[39mbase, PRECEDENCE[\u001b[38;5;124m\"\u001b[39m\u001b[38;5;124mAtom\u001b[39m\u001b[38;5;124m\"\u001b[39m] \u001b[38;5;241m-\u001b[39m \u001b[38;5;241m0.5\u001b[39m)\n\u001b[1;32m    208\u001b[0m     divisor \u001b[38;5;241m=\u001b[39m printer\u001b[38;5;241m.\u001b[39mparenthesize(\u001b[38;5;28mself\u001b[39m\u001b[38;5;241m.\u001b[39mdivisor, PRECEDENCE[\u001b[38;5;124m\"\u001b[39m\u001b[38;5;124mAtom\u001b[39m\u001b[38;5;124m\"\u001b[39m] \u001b[38;5;241m-\u001b[39m \u001b[38;5;241m0.5\u001b[39m)\n",
      "\u001b[0;31mAttributeError\u001b[0m: module 'sympy' has no attribute 'printing'"
     ]
    }
   ],
   "source": [
    "# 8. Define Loss Function and Optimizer\n",
    "criterion = nn.MSELoss()\n",
    "optimizer = optim.Adam(model.parameters(), lr=0.001)\n"
   ]
  },
  {
   "cell_type": "code",
   "execution_count": null,
   "metadata": {},
   "outputs": [],
   "source": [
    "# 9. Training Loop\n",
    "epochs = 100\n",
    "device = torch.device(\"cuda\" if torch.cuda.is_available() else \"cpu\")\n",
    "model.to(device)\n",
    "\n",
    "for epoch in range(epochs):\n",
    "    model.train()\n",
    "    train_loss = 0\n",
    "    for inputs, targets in train_loader:\n",
    "        inputs, targets = inputs.to(device), targets.to(device)\n",
    "        optimizer.zero_grad()\n",
    "        outputs = model(inputs)\n",
    "        loss = criterion(outputs, targets)\n",
    "        loss.backward()\n",
    "        optimizer.step()\n",
    "        train_loss += loss.item() * inputs.size(0)\n",
    "    train_loss /= len(train_loader.dataset)\n",
    "\n",
    "    model.eval()\n",
    "    val_loss = 0\n",
    "    with torch.no_grad():\n",
    "        for inputs, targets in test_loader:\n",
    "            inputs, targets = inputs.to(device), targets.to(device)\n",
    "            outputs = model(inputs)\n",
    "            loss = criterion(outputs, targets)\n",
    "            val_loss += loss.item() * inputs.size(0)\n",
    "    val_loss /= len(test_loader.dataset)\n",
    "\n",
    "    print(f'Epoch {epoch+1}/{epochs}, Train Loss: {train_loss:.4f}, Val Loss: {val_loss:.4f}')\n"
   ]
  },
  {
   "cell_type": "code",
   "execution_count": null,
   "metadata": {},
   "outputs": [],
   "source": [
    "# 10. Evaluate the Model (Optional)\n",
    "from sklearn.metrics import r2_score, mean_absolute_error, mean_squared_error\n",
    "\n",
    "model.eval()\n",
    "y_pred_list = []\n",
    "y_true_list = []\n",
    "with torch.no_grad():\n",
    "    for inputs, targets in test_loader:\n",
    "        inputs, targets = inputs.to(device), targets.to(device)\n",
    "        outputs = model(inputs)\n",
    "        y_pred = target_scaler.inverse_transform(outputs.cpu().numpy())\n",
    "        y_true = target_scaler.inverse_transform(targets.cpu().numpy())\n",
    "        y_pred_list.extend(y_pred)\n",
    "        y_true_list.extend(y_true)\n",
    "\n",
    "r2 = r2_score(y_true_list, y_pred_list)\n",
    "mae = mean_absolute_error(y_true_list, y_pred_list)\n",
    "rmse = mean_squared_error(y_true_list, y_pred_list, squared=False)\n",
    "\n",
    "print(f'R-squared on Test Set: {r2:.4f}')\n",
    "print(f'MAE on Test Set: {mae:.4f}')\n",
    "print(f'RMSE on Test Set: {rmse:.4f}')"
   ]
  },
  {
   "cell_type": "markdown",
   "metadata": {},
   "source": [
    "# Part 2: Symbolic Regression with PySR"
   ]
  },
  {
   "cell_type": "code",
   "execution_count": 1,
   "metadata": {},
   "outputs": [
    {
     "name": "stdout",
     "output_type": "stream",
     "text": [
      "Detected IPython. Loading juliacall extension. See https://juliapy.github.io/PythonCall.jl/stable/compat/#IPython\n"
     ]
    }
   ],
   "source": [
    "import numpy\n",
    "import sympy # NOTE sympy must be version 1.13.1\n",
    "import pysr\n",
    "from pysr import PySRRegressor\n",
    "import matplotlib.pyplot as plt\n",
    "from sklearn.metrics import r2_score, mean_absolute_error, mean_squared_error"
   ]
  },
  {
   "cell_type": "code",
   "execution_count": 10,
   "metadata": {},
   "outputs": [],
   "source": [
    "# 1. Load your dataset again\n",
    "data_sr = pd.read_csv(\"Datasets.csv\")"
   ]
  },
  {
   "cell_type": "code",
   "execution_count": 11,
   "metadata": {},
   "outputs": [],
   "source": [
    "# 2. Separate features (X/params) and target (y/poisson)\n",
    "params_sr = data_sr.iloc[:, :-1]\n",
    "poisson_sr = data_sr.iloc[:,-1:]\n"
   ]
  },
  {
   "cell_type": "code",
   "execution_count": 12,
   "metadata": {},
   "outputs": [],
   "source": [
    "# 3. Split data into training and testing sets (same split as before for comparison)\n",
    "X_train_sr, X_test_sr, y_train_sr, y_test_sr = train_test_split(params_sr, poisson_sr, test_size=0.2, random_state=42)\n"
   ]
  },
  {
   "cell_type": "code",
   "execution_count": 21,
   "metadata": {},
   "outputs": [],
   "source": [
    "# 4. Initialize and run PySR\n",
    "model_sr = PySRRegressor(\n",
    "    # n_features=X_train_sr.shape[1], # NOTE might not be necessary since we're making a first pass of training on all features. revisit later to do term reduction\n",
    "    # feature_names=['slant_length', 'thickness', 'angle', 'vertical_length'],\n",
    "    populations=5,\n",
    "    population_size=100,      # number of individuals per population\n",
    "    # loss='mse', # NOTE can't specify a loss function as a string, needs to be custom julia code\n",
    "    niterations=80,\n",
    "    # You can specify the mathematical operations to use\n",
    "    # default_operations=['+', '-', '*', '/'],\n",
    "    # extra_sympy_mappings={'sin': 'sin', 'cos': 'cos'}, # Example for trigonometric functions\n",
    "    # unary_operators=[np.exp, np.log, 'abs', 'sin', 'cos'], # Example for unary operators\n",
    "    # binary_operators=['+', '-', '*', '/'],\n",
    "    # complexity_of_operators={'*': 1, '/': 2, '+': 1, '-': 1, 'exp': 3, 'log': 3, 'sin': 2, 'cos': 2, 'abs': 1},\n",
    "    random_state=42,\n",
    "    procs=6,                 # Number of CPU cores to use (may 3: 4 cores, may 7: 6 cores), \n",
    "    deterministic=True,\n",
    "    parallelism ='serial',\n",
    ")\n",
    "\n",
    "print(\"\\nStarting Symbolic Regression...\")\n",
    "model_sr.fit(X_train_sr, y_train_sr, variable_names=['slant_length', 'thickness', 'angle', 'vertical_length'])"
   ]
  },
  {
   "cell_type": "code",
   "execution_count": 14,
   "metadata": {},
   "outputs": [
    {
     "data": {
      "text/latex": [
       "$\\displaystyle \\frac{\\left(Cell_{angle} - Slant_{cell length}\\right) \\left(Cell_{angle} \\left(-1.9645575 \\cdot 10^{-5} + \\frac{0.0016910352}{Cell_{angle}}\\right) Slant_{cell length} Slant_{cell length} \\left(-2.7323828\\right) + 0.064948626\\right)}{\\mathcal{Verti}_{cell length}}$"
      ],
      "text/plain": [
       "(Cell_angle - Slant_cell_length)*(Cell_angle*(-1.9645575e-5 + 0.0016910352/Cell_angle)*Slant_cell_length*Slant_cell_length*(-2.7323828) + 0.064948626)/Vertical_cell_length"
      ]
     },
     "execution_count": 14,
     "metadata": {},
     "output_type": "execute_result"
    }
   ],
   "source": [
    "model_sr.sympy()"
   ]
  },
  {
   "cell_type": "code",
   "execution_count": 17,
   "metadata": {},
   "outputs": [
    {
     "name": "stdout",
     "output_type": "stream",
     "text": [
      "_SingleSymPyModule(expression=(Cell_angle - Slant_cell_length)*(Cell_angle*(-1.9645575e-5 + 0.0016910352/Cell_angle)*Slant_cell_length*Slant_cell_length*(-2.7323828) + 0.064948626)/Vertical_cell_length)\n",
      "['-0.057378877', 'Slant_cell_length * -0.0070060696', '(Slant_cell_length * -0.01749015) - -0.14429756', '(Slant_cell_length + -7.9955964) * (-0.9211532 / Cell_angle)', '((Cell_angle * 0.00086687214) - (Slant_cell_length * 0.0063558617)) / 0.36121404', '(((Cell_angle * Cell_angle) * ((-0.0020788074 / Cell_angle) + 1.9434918e-5)) + 0.041405607) * Slant_cell_length', '((((0.00039431467 / Cell_angle) - 4.168352e-6) * ((Cell_angle * Slant_cell_length) * -2.6812778)) * Cell_angle) + 0.1677473', '(((0.00030651086 / Cell_angle) + -3.2427429e-6) * (((Cell_angle - 1.4157107) * (Slant_cell_length * -3.4559855)) * Cell_angle)) + 0.16639291', '(((0.00030651086 / Cell_angle) + -3.2427429e-6) * ((Cell_angle - 1.4157107) * (Slant_cell_length * (-3.4559855 * (0.04325803 + Cell_angle))))) + 0.16639291', '(Cell_angle - Slant_cell_length) * (((((Cell_angle * ((0.0016910352 / Cell_angle) + -1.9645575e-5)) * Slant_cell_length) * (Slant_cell_length * -2.7323828)) + 0.064948626) / Vertical_cell_length)', '(Cell_angle - Slant_cell_length) * (((((0.002194347 / Cell_angle) + -2.5705072e-5) * ((Slant_cell_length / -0.41380018) * ((Slant_cell_length - Cell_thickness) * Cell_angle))) + 0.057462078) / Vertical_cell_length)', '((((((Slant_cell_length - Cell_thickness) + -0.8573299) * (Slant_cell_length / -2.565412)) * Cell_angle) * ((0.015900241 / Cell_angle) + -0.00018722664)) + 0.053492904) / (Vertical_cell_length / (Cell_angle - Slant_cell_length))', '((((Slant_cell_length - ((Vertical_cell_length + Cell_thickness) * -0.0016956661)) * Slant_cell_length) * (Cell_angle * (((0.00011420904 / Cell_angle) + -1.3615372e-6) * (Slant_cell_length / -0.41370952)))) + 0.039463878) * ((Cell_angle - Slant_cell_length) / Vertical_cell_length)']\n"
     ]
    }
   ],
   "source": [
    "# TODO write a function that automatically parses model output into an equation that can be fed the points of a dataset.\n",
    "print(model_sr.pytorch())\n",
    "\n",
    "equations = list(model_sr.equations_['equation'])\n",
    "print(equations)\n"
   ]
  },
  {
   "cell_type": "code",
   "execution_count": 18,
   "metadata": {},
   "outputs": [
    {
     "data": {
      "image/png": "[encoded data removed]",
      "text/plain": [
       "<Figure size 640x480 with 1 Axes>"
      ]
     },
     "metadata": {},
     "output_type": "display_data"
    },
    {
     "name": "stderr",
     "output_type": "stream",
     "text": [
      "/opt/homebrew/anaconda3/lib/python3.12/site-packages/sklearn/metrics/_regression.py:483: FutureWarning: 'squared' is deprecated in version 1.4 and will be removed in 1.6. To calculate the root mean squared error, use the function'root_mean_squared_error'.\n",
      "  warnings.warn(\n"
     ]
    },
    {
     "name": "stdout",
     "output_type": "stream",
     "text": [
      "R-squared on Test Set: 0.8261\n",
      "MAE on Test Set: 0.0415\n",
      "RMSE on Test Set: 0.0558\n"
     ]
    }
   ],
   "source": [
    "# print(data.columns)\n",
    "\n",
    "def validate_run(dataset, equation=None):\n",
    "    \"\"\"\n",
    "    take in the raw set of geometry<->poisson ratio mappings\n",
    "    and return a plot of SR model predictions.\n",
    "    \"\"\"\n",
    "    slant_cell_length = numpy.asarray(dataset['Slant cell length'])\n",
    "    cell_thickness = numpy.asarray(dataset['Cell thickness'])\n",
    "    cell_angle = numpy.asarray(dataset['Cell angle'])\n",
    "    vertical_cell_length = numpy.asarray(dataset['Vertical cell length'])\n",
    "    poisson_ratio = numpy.asarray(dataset['Poisson\\'s ratio'])\n",
    "\n",
    "    model_predictions = []\n",
    "    for idx in range(len(dataset)):\n",
    "        model_predictions.append(equation(slant_cell_length=slant_cell_length[idx],cell_thickness=cell_thickness[idx],cell_angle=cell_angle[idx], vertical_cell_length=vertical_cell_length[idx]))\n",
    "    \n",
    "    plt.plot(model_predictions, poisson_ratio)\n",
    "    plt.plot(poisson_ratio)\n",
    "    plt.legend(['model_prediction','ground_truth'])\n",
    "    plt.show()\n",
    "\n",
    "    r2 = r2_score(poisson_ratio, model_predictions)\n",
    "    mae = mean_absolute_error(poisson_ratio, model_predictions)\n",
    "    rmse = mean_squared_error(poisson_ratio, model_predictions, squared=False)\n",
    "\n",
    "    print(f'R-squared on Test Set: {r2:.4f}')\n",
    "    print(f'MAE on Test Set: {mae:.4f}')\n",
    "    print(f'RMSE on Test Set: {rmse:.4f}')\n",
    "        \n",
    "\n",
    "# TODO make automated function generation work with this below block of code. want to go from sympy --> actionable equation  \n",
    "def run_1_SR(slant_cell_length, cell_thickness, cell_angle, vertical_cell_length): \n",
    "    '''\n",
    "    Validate best equation of `outputs/20250503_224212_5kTnhb`\n",
    "    Model hyperparams:\n",
    "        populations=5,\n",
    "        population_size=50,      # number of individuals per population\n",
    "        niterations=100,\n",
    "        random_state=42,\n",
    "        procs=4,                 # Number of CPU cores to use (may 3: 4 cores, may 7: 6 cores), \n",
    "    '''\n",
    "    poisson_prediction = (slant_cell_length*0.17546645*vertical_cell_length/(cell_angle + slant_cell_length*(vertical_cell_length/(cell_angle - slant_cell_length) - 3.8501096)) - 2.687245)*(-0.031911876)\n",
    "    return poisson_prediction\n",
    "\n",
    "def run_2_SR(slant_cell_length, cell_thickness, cell_angle, vertical_cell_length): \n",
    "    '''\n",
    "    Validate best equation of 'outputs/20250507_203453_6Th53a'\n",
    "    Model hyperparams:\n",
    "        populations=5,\n",
    "        population_size=100,      # number of individuals per population\n",
    "        niterations=40,\n",
    "        random_state=42,\n",
    "        procs=6,                 # Number of CPU cores to use (may 3: 4 cores, may 7: 6 cores), \n",
    "        deterministic=True,\n",
    "        parallelism ='serial'\n",
    "    '''\n",
    "    poisson_prediction = (cell_angle - slant_cell_length)*(cell_angle*(-1.9645575e-5 + 0.0016910352/cell_angle)*slant_cell_length*slant_cell_length*(-2.7323828) + 0.064948626)/vertical_cell_length\n",
    "    return poisson_prediction\n",
    "\n",
    "def run_2_SR(slant_cell_length, cell_thickness, cell_angle, vertical_cell_length): \n",
    "    '''\n",
    "    Validate best equation of ''\n",
    "    Model hyperparams:\n",
    "        populations=5,\n",
    "        population_size=100,      # number of individuals per population\n",
    "        niterations=40,\n",
    "        random_state=42,\n",
    "        procs=6,                 # Number of CPU cores to use (may 3: 4 cores, may 7: 6 cores), \n",
    "        deterministic=True,\n",
    "        parallelism ='serial'\n",
    "    '''\n",
    "    poisson_prediction = (cell_angle - slant_cell_length)*(cell_angle*(-1.9645575e-5 + 0.0016910352/cell_angle)*slant_cell_length*slant_cell_length*(-2.7323828) + 0.064948626)/vertical_cell_length\n",
    "    return poisson_prediction\n",
    "\n",
    "# validate_run(data, run_1_SR)\n",
    "# validate_run(data, run_2_SR)\n",
    "validate_run(data, run_2_SR)\n",
    "\n",
    "\n",
    "    \n"
   ]
  },
  {
   "cell_type": "code",
   "execution_count": null,
   "metadata": {},
   "outputs": [],
   "source": [
    "import matplotlib\n",
    "from scipy.interpolate import griddata\n",
    "\n",
    "# X-Y are transformed into 2D grids. It's like a form of interpolation\n",
    "x1 = np.linspace(x.min(), x.max(), len(np.unique(x))); \n",
    "y1 = np.linspace(y.min(), y.max(), len(np.unique(y)));\n",
    "x2, y2 = np.meshgrid(x1, y1);\n",
    "\n",
    "# Interpolation of Z: old X-Y to the new X-Y grid.\n",
    "# Note: Sometimes values ​​can be < z.min and so it may be better to set \n",
    "# the values too low to the true minimum value.\n",
    "z2 = griddata( (x, y), z, (x2, y2), method='cubic', fill_value = 0);\n",
    "z2[z2 < z.min()] = z.min();\n",
    "\n",
    "# Interpolation of C: old X-Y on the new X-Y grid (as we did for Z)\n",
    "# The only problem is the fact that the interpolation of C does not take\n",
    "# into account Z and that, consequently, the representation is less \n",
    "# valid compared to the previous solutions.\n",
    "c2 = griddata( (x, y), c, (x2, y2), method='cubic', fill_value = 0);\n",
    "c2[c2 < c.min()] = c.min(); \n",
    "\n",
    "#--------\n",
    "color_dimension = c2; # It must be in 2D - as for \"X, Y, Z\".\n",
    "minn, maxx = color_dimension.min(), color_dimension.max();\n",
    "norm = matplotlib.colors.Normalize(minn, maxx);\n",
    "m = plt.cm.ScalarMappable(norm=norm, cmap = name_color_map);\n",
    "m.set_array([]);\n",
    "fcolors = m.to_rgba(color_dimension);\n",
    "\n",
    "# At this time, X-Y-Z-C are all 2D and we can use \"plot_surface\".\n",
    "fig = plt.figure(); ax = fig.gca(projection='3d');\n",
    "surf = ax.plot_surface(x2, y2, z2, facecolors = fcolors, linewidth=0, rstride=1, cstride=1,\n",
    "                       antialiased=False);\n",
    "cbar = fig.colorbar(m, shrink=0.5, aspect=5);\n",
    "cbar.ax.get_yaxis().labelpad = 15; cbar.ax.set_ylabel(list_name_variables[index_c], rotation = 270);\n",
    "ax.set_xlabel(list_name_variables[index_x]); ax.set_ylabel(list_name_variables[index_y]);\n",
    "ax.set_zlabel(list_name_variables[index_z]);\n",
    "plt.title('%s in fcn of %s, %s and %s' % (list_name_variables[index_c], list_name_variables[index_x], list_name_variables[index_y], list_name_variables[index_z]) );\n",
    "plt.show();"
   ]
  }
 ],
 "metadata": {
  "kernelspec": {
   "display_name": "Python 3",
   "language": "python",
   "name": "python3"
  },
  "language_info": {
   "codemirror_mode": {
    "name": "ipython",
    "version": 3
   },
   "file_extension": ".py",
   "mimetype": "text/x-python",
   "name": "python",
   "nbconvert_exporter": "python",
   "pygments_lexer": "ipython3",
   "version": "3.12.4"
  }
 },
 "nbformat": 4,
 "nbformat_minor": 2
}
